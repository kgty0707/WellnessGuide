{
 "cells": [
  {
   "cell_type": "code",
   "execution_count": 1,
   "id": "56f6f84b",
   "metadata": {},
   "outputs": [],
   "source": [
    "import numpy as np\n",
    "from sklearn.model_selection import train_test_split\n",
    "from sklearn.preprocessing import StandardScaler, LabelEncoder\n",
    "from sklearn.metrics import classification_report, accuracy_score\n",
    "import pandas as pd\n",
    "import tensorflow as tf"
   ]
  },
  {
   "cell_type": "code",
   "execution_count": 2,
   "id": "e0fe68f1",
   "metadata": {},
   "outputs": [],
   "source": [
    "import time"
   ]
  },
  {
   "cell_type": "code",
   "execution_count": 3,
   "id": "b4af790c",
   "metadata": {},
   "outputs": [
    {
     "name": "stderr",
     "output_type": "stream",
     "text": [
      "C:\\Users\\Master\\AppData\\Local\\Temp\\ipykernel_13420\\113614494.py:3: DtypeWarning: Columns (21) have mixed types. Specify dtype option on import or set low_memory=False.\n",
      "  health_data = pd.read_csv(file_path)\n"
     ]
    }
   ],
   "source": [
    "# 파일 경로 설정\n",
    "file_path = \".\\통합데이터_전처리_당뇨고혈압추가.csv\"\n",
    "health_data = pd.read_csv(file_path)"
   ]
  },
  {
   "cell_type": "code",
   "execution_count": 4,
   "id": "e76f9de7",
   "metadata": {},
   "outputs": [
    {
     "name": "stderr",
     "output_type": "stream",
     "text": [
      "c:\\Users\\Master\\anaconda3\\envs\\uni\\Lib\\site-packages\\keras\\src\\layers\\rnn\\rnn.py:200: UserWarning: Do not pass an `input_shape`/`input_dim` argument to a layer. When using Sequential models, prefer using an `Input(shape)` object as the first layer in the model instead.\n",
      "  super().__init__(**kwargs)\n"
     ]
    }
   ],
   "source": [
    "# 데이터 준비\n",
    "X = health_data[['성별', '연령대코드', '신장', '체중', '수축기 혈압', '이완기 혈압']]\n",
    "y = health_data['이상지질혈증']\n",
    "\n",
    "# 범주형 변수 처리 (성별, 연령대코드)\n",
    "X = pd.get_dummies(X, columns=['성별', '연령대코드'], drop_first=True)\n",
    "\n",
    "# 데이터 정규화\n",
    "scaler = StandardScaler()\n",
    "X_scaled = scaler.fit_transform(X)\n",
    "\n",
    "# y를 숫자 레이블로 변환\n",
    "label_encoder = LabelEncoder()\n",
    "y_encoded = label_encoder.fit_transform(y)\n",
    "\n",
    "# 데이터 나누기\n",
    "X_train, X_test, y_train, y_test = train_test_split(\n",
    "    X_scaled, y_encoded, test_size=0.2, random_state=42\n",
    ")\n",
    "\n",
    "# LSTM 입력 형태로 변환 (samples, timesteps, features)\n",
    "X_train_lstm = X_train.reshape(X_train.shape[0], X_train.shape[1], 1)  # (샘플 수, 특성 수, 채널 수)\n",
    "X_test_lstm = X_test.reshape(X_test.shape[0], X_test.shape[1], 1)\n",
    "\n",
    "# LSTM 모델 구축\n",
    "model = tf.keras.Sequential([\n",
    "    tf.keras.layers.LSTM(64, activation='relu', input_shape=(X_train.shape[1], 1)),\n",
    "    tf.keras.layers.Dense(64, activation='relu'),\n",
    "    tf.keras.layers.Dense(1, activation='sigmoid')\n",
    "])\n",
    "\n",
    "# 모델 컴파일\n",
    "model.compile(optimizer='adam', \n",
    "              loss='binary_crossentropy', \n",
    "              metrics=['accuracy'])"
   ]
  },
  {
   "cell_type": "code",
   "execution_count": 5,
   "id": "e29ead73",
   "metadata": {},
   "outputs": [
    {
     "name": "stdout",
     "output_type": "stream",
     "text": [
      "Epoch 1/4\n",
      "\u001b[1m65765/65765\u001b[0m \u001b[32m━━━━━━━━━━━━━━━━━━━━\u001b[0m\u001b[37m\u001b[0m \u001b[1m444s\u001b[0m 7ms/step - accuracy: 0.6348 - loss: 0.6433 - val_accuracy: 0.6402 - val_loss: 0.6370\n",
      "Epoch 2/4\n",
      "\u001b[1m65765/65765\u001b[0m \u001b[32m━━━━━━━━━━━━━━━━━━━━\u001b[0m\u001b[37m\u001b[0m \u001b[1m423s\u001b[0m 6ms/step - accuracy: 0.6430 - loss: 0.6355 - val_accuracy: 0.6424 - val_loss: 0.6354\n",
      "Epoch 3/4\n",
      "\u001b[1m65765/65765\u001b[0m \u001b[32m━━━━━━━━━━━━━━━━━━━━\u001b[0m\u001b[37m\u001b[0m \u001b[1m502s\u001b[0m 8ms/step - accuracy: 0.6426 - loss: 0.6356 - val_accuracy: 0.6428 - val_loss: 0.6352\n",
      "Epoch 4/4\n",
      "\u001b[1m65765/65765\u001b[0m \u001b[32m━━━━━━━━━━━━━━━━━━━━\u001b[0m\u001b[37m\u001b[0m \u001b[1m515s\u001b[0m 8ms/step - accuracy: 0.6431 - loss: 0.6353 - val_accuracy: 0.6429 - val_loss: 0.6351\n",
      "\u001b[1m16442/16442\u001b[0m \u001b[32m━━━━━━━━━━━━━━━━━━━━\u001b[0m\u001b[37m\u001b[0m \u001b[1m54s\u001b[0m 3ms/step\n",
      "Classification Report:\n",
      "               precision    recall  f1-score   support\n",
      "\n",
      "           0       0.67      0.14      0.23    206903\n",
      "           1       0.63      0.96      0.76    319215\n",
      "\n",
      "    accuracy                           0.64    526118\n",
      "   macro avg       0.65      0.55      0.50    526118\n",
      "weighted avg       0.65      0.64      0.55    526118\n",
      "\n",
      "\u001b[1m16442/16442\u001b[0m \u001b[32m━━━━━━━━━━━━━━━━━━━━\u001b[0m\u001b[37m\u001b[0m \u001b[1m49s\u001b[0m 3ms/step\n",
      "예측 확률 값:\n",
      " [[0.80809236]\n",
      " [0.43617642]\n",
      " [0.6821544 ]\n",
      " ...\n",
      " [0.62061733]\n",
      " [0.62143326]\n",
      " [0.62402964]]\n",
      "Overall Accuracy: 0.6357\n"
     ]
    }
   ],
   "source": [
    "# 모델 학습\n",
    "history = model.fit(X_train_lstm, y_train, \n",
    "                    validation_data=(X_test_lstm, y_test), \n",
    "                    epochs=4, \n",
    "                    batch_size=32)\n",
    "\n",
    "# 예측 및 평가\n",
    "y_pred = (model.predict(X_test_lstm) > 0.4).astype(\"int32\")\n",
    "print(\"Classification Report:\\n\", classification_report(y_test, y_pred))\n",
    "\n",
    "y_pred_probabilities = model.predict(X_test_lstm)\n",
    "print(\"예측 확률 값:\\n\", y_pred_probabilities)\n",
    "\n",
    "# 전체 정확도 출력\n",
    "accuracy = accuracy_score(y_test, y_pred)\n",
    "print(f\"Overall Accuracy: {accuracy:.4f}\")"
   ]
  },
  {
   "cell_type": "code",
   "execution_count": null,
   "id": "ff023be8",
   "metadata": {},
   "outputs": [
    {
     "name": "stdout",
     "output_type": "stream",
     "text": [
      "모델이 .h5 형식으로 저장되었습니다.\n"
     ]
    }
   ],
   "source": [
    "model.save(\"./dyslipidemia_model.h5\")\n",
    "print(\"모델이 .h5 형식으로 저장되었습니다.\")"
   ]
  },
  {
   "cell_type": "code",
   "execution_count": 8,
   "id": "11709581",
   "metadata": {},
   "outputs": [
    {
     "name": "stderr",
     "output_type": "stream",
     "text": [
      "WARNING:absl:Compiled the loaded model, but the compiled metrics have yet to be built. `model.compile_metrics` will be empty until you train or evaluate the model.\n"
     ]
    },
    {
     "name": "stdout",
     "output_type": "stream",
     "text": [
      "저장된 모델이 성공적으로 로드되었습니다.\n",
      "\u001b[1m16442/16442\u001b[0m \u001b[32m━━━━━━━━━━━━━━━━━━━━\u001b[0m\u001b[37m\u001b[0m \u001b[1m54s\u001b[0m 3ms/step\n",
      "로드된 모델의 Classification Report:\n",
      "               precision    recall  f1-score   support\n",
      "\n",
      "           0       0.67      0.14      0.23    206903\n",
      "           1       0.63      0.96      0.76    319215\n",
      "\n",
      "    accuracy                           0.64    526118\n",
      "   macro avg       0.65      0.55      0.50    526118\n",
      "weighted avg       0.65      0.64      0.55    526118\n",
      "\n",
      "로드된 모델의 Overall Accuracy: 0.6357\n"
     ]
    }
   ],
   "source": [
    "from tensorflow.keras.models import load_model\n",
    "\n",
    "# 모델 로드\n",
    "loaded_model = load_model(\"dyslipidemia_model.h5\")\n",
    "print(\"저장된 모델이 성공적으로 로드되었습니다.\")\n",
    "\n",
    "# 로드된 모델로 예측\n",
    "y_pred_loaded = (loaded_model.predict(X_test_lstm) > 0.4).astype(\"int32\")\n",
    "print(\"로드된 모델의 Classification Report:\\n\", classification_report(y_test, y_pred_loaded))\n",
    "\n",
    "# 로드된 모델의 정확도 확인\n",
    "accuracy_loaded = accuracy_score(y_test, y_pred_loaded)\n",
    "print(f\"로드된 모델의 Overall Accuracy: {accuracy_loaded:.4f}\")"
   ]
  },
  {
   "cell_type": "markdown",
   "id": "c769ad47",
   "metadata": {},
   "source": [
    "### 예시 테스트 + 추론 시간"
   ]
  },
  {
   "cell_type": "code",
   "execution_count": null,
   "id": "6e351177",
   "metadata": {},
   "outputs": [
    {
     "name": "stdout",
     "output_type": "stream",
     "text": [
      "1/1 [==============================] - 0s 14ms/step\n",
      "입력된 데이터: {'성별': [1], '연령대코드': [2], '신장': [150], '체중': [80], '수축기 혈압': [120], '이완기 혈압': [80]}\n",
      "예측 결과: [[1]]\n",
      "데이터 하나에 대한 추론 시간: 0.04375433921813965초\n"
     ]
    }
   ],
   "source": [
    "import pandas as pd\n",
    "from sklearn.preprocessing import StandardScaler\n",
    "import time\n",
    "\n",
    "# 사용자로부터 입력된 데이터 (리스트 형태 제거)\n",
    "input_data = {\n",
    "    '성별': 1,  # 예: 1은 남성, 0은 여성\n",
    "    '연령대코드': 2,  # 예: 2는 30대, 1은 20대 등\n",
    "    '신장': 200.0,  # 예: 170 cm\n",
    "    '체중': 200.0,  # 예: 65 kg\n",
    "    '수축기 혈압': 120,  # 예: 120 mmHg\n",
    "    '이완기 혈압': 80  # 예: 80 mmHg\n",
    "}\n",
    "\n",
    "# 입력 데이터를 DataFrame으로 변환 (리스트가 아닌 단일 값 처리)\n",
    "input_df = pd.DataFrame([input_data])\n",
    "\n",
    "# 범주형 변수 처리 (pd.get_dummies 사용)\n",
    "input_df_processed = pd.get_dummies(input_df, drop_first=True)\n",
    "\n",
    "# 스케일링: 모델에 사용된 X_train과 동일한 방식으로 스케일링\n",
    "scaler = StandardScaler()\n",
    "input_scaled = scaler.fit_transform(input_df_processed)\n",
    "\n",
    "# 첫 번째 테스트 데이터에 대해 추론 시간 측정\n",
    "start_time = time.time()  # 시작 시간 기록\n",
    "\n",
    "# XGBoost 모델 예측\n",
    "prediction = xgb_model.predict(input_scaled)\n",
    "\n",
    "end_time = time.time()  # 끝 시간 기록\n",
    "\n",
    "# 추론 시간 계산\n",
    "inference_time = end_time - start_time\n",
    "print(f\"데이터 하나에 대한 추론 시간: {inference_time}초\")\n",
    "\n",
    "# 예측 결과 출력\n",
    "print(\"입력된 데이터:\", input_data)\n",
    "print(\"예측 결과:\", prediction)\n"
   ]
  },
  {
   "cell_type": "code",
   "execution_count": null,
   "id": "64064184",
   "metadata": {},
   "outputs": [],
   "source": []
  }
 ],
 "metadata": {
  "kernelspec": {
   "display_name": "uni",
   "language": "python",
   "name": "python3"
  },
  "language_info": {
   "codemirror_mode": {
    "name": "ipython",
    "version": 3
   },
   "file_extension": ".py",
   "mimetype": "text/x-python",
   "name": "python",
   "nbconvert_exporter": "python",
   "pygments_lexer": "ipython3",
   "version": "3.12.0"
  }
 },
 "nbformat": 4,
 "nbformat_minor": 5
}
