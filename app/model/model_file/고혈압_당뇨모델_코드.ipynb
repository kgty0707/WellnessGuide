{
 "cells": [
  {
   "cell_type": "code",
   "execution_count": null,
   "metadata": {
    "id": "M4qck-tQ5J5s"
   },
   "outputs": [],
   "source": [
    "import tensorflow as tf\n",
    "import pandas as pd\n",
    "import joblib\n",
    "import time\n",
    "\n",
    "from tensorflow.keras.models import Sequential\n",
    "from tensorflow.keras.layers import Conv1D, MaxPooling1D, Flatten, Dense, Dropout\n",
    "from sklearn.preprocessing import StandardScaler\n",
    "from sklearn.metrics import classification_report, accuracy_score\n",
    "from imblearn.over_sampling import SMOTE\n",
    "from sklearn.model_selection import train_test_split\n",
    "from sklearn.utils import resample\n",
    "from sklearn.linear_model import LogisticRegression"
   ]
  },
  {
   "cell_type": "code",
   "execution_count": 8,
   "metadata": {
    "colab": {
     "base_uri": "https://localhost:8080/"
    },
    "id": "cQvne81v5qCy",
    "outputId": "88669a44-3064-4eec-acdb-7298200e345a"
   },
   "outputs": [
    {
     "name": "stderr",
     "output_type": "stream",
     "text": [
      "C:\\Users\\Master\\AppData\\Local\\Temp\\ipykernel_6348\\113614494.py:3: DtypeWarning: Columns (21) have mixed types. Specify dtype option on import or set low_memory=False.\n",
      "  health_data = pd.read_csv(file_path)\n"
     ]
    }
   ],
   "source": [
    "# 파일 경로 설정\n",
    "file_path = \".\\통합데이터_전처리_당뇨고혈압추가.csv\"\n",
    "health_data = pd.read_csv(file_path)"
   ]
  },
  {
   "cell_type": "markdown",
   "metadata": {
    "id": "4r36f80OPRdu"
   },
   "source": [
    "#고혈압"
   ]
  },
  {
   "cell_type": "code",
   "execution_count": 9,
   "metadata": {
    "colab": {
     "base_uri": "https://localhost:8080/"
    },
    "id": "GI8KNi9c53WJ",
    "outputId": "d60bc296-8275-4f32-b5ca-1f77277265f5"
   },
   "outputs": [
    {
     "name": "stdout",
     "output_type": "stream",
     "text": [
      "   성별  연령대코드   신장   체중  수축기 혈압  이완기 혈압  고혈압 여부\n",
      "0   1     13  160   70   109.0    73.0       0\n",
      "1   1      8  170  110   139.0    87.0       1\n",
      "2   1      6  175   70   120.0    72.0       1\n",
      "3   1     11  170   75   140.0    80.0       1\n",
      "4   2     11  150   65   123.0    69.0       1\n",
      "<class 'pandas.core.frame.DataFrame'>\n",
      "RangeIndex: 2630590 entries, 0 to 2630589\n",
      "Data columns (total 7 columns):\n",
      " #   Column  Dtype  \n",
      "---  ------  -----  \n",
      " 0   성별      int64  \n",
      " 1   연령대코드   int64  \n",
      " 2   신장      int64  \n",
      " 3   체중      int64  \n",
      " 4   수축기 혈압  float64\n",
      " 5   이완기 혈압  float64\n",
      " 6   고혈압 여부  int64  \n",
      "dtypes: float64(2), int64(5)\n",
      "memory usage: 140.5 MB\n",
      "None\n"
     ]
    }
   ],
   "source": [
    "# 선택할 특성과 타겟 변수\n",
    "selected_features = ['성별', '연령대코드', '신장', '체중', '수축기 혈압', '이완기 혈압']\n",
    "health_data['고혈압 여부'] = health_data['고혈압 단계'].apply(lambda x: 1 if x in [1, 2] else 0)\n",
    "target = '고혈압 여부'\n",
    "\n",
    "# 데이터프레임에서 필요한 컬럼만 선택\n",
    "df_selected = health_data[selected_features + [target]]\n",
    "\n",
    "# 데이터 확인\n",
    "print(df_selected.head())\n",
    "print(df_selected.info())\n"
   ]
  },
  {
   "cell_type": "code",
   "execution_count": 10,
   "metadata": {
    "colab": {
     "base_uri": "https://localhost:8080/"
    },
    "id": "ji_1CGDu6AFV",
    "outputId": "380d23df-fdda-4fa3-dc94-1a83c3c3357b"
   },
   "outputs": [
    {
     "name": "stdout",
     "output_type": "stream",
     "text": [
      "훈련 세트 크기: (2104472, 6)\n",
      "테스트 세트 크기: (526118, 6)\n"
     ]
    }
   ],
   "source": [
    "X = df_selected[selected_features]\n",
    "y = df_selected[target]\n",
    "\n",
    "X_train, X_test, y_train, y_test = train_test_split(\n",
    "    X, y, test_size=0.2, random_state=42, stratify=y\n",
    ")\n",
    "\n",
    "print(f\"훈련 세트 크기: {X_train.shape}\")\n",
    "print(f\"테스트 세트 크기: {X_test.shape}\")\n"
   ]
  },
  {
   "cell_type": "code",
   "execution_count": 11,
   "metadata": {
    "id": "OKagpjS_6dn1"
   },
   "outputs": [],
   "source": [
    "results = {}"
   ]
  },
  {
   "cell_type": "code",
   "execution_count": 12,
   "metadata": {
    "colab": {
     "base_uri": "https://localhost:8080/"
    },
    "id": "1SXxK2zj6Yef",
    "outputId": "a6dfd200-540d-4bc8-fc2d-f01c5f69806e"
   },
   "outputs": [
    {
     "name": "stdout",
     "output_type": "stream",
     "text": [
      "Logistic Regression 학습 중...\n",
      "Logistic Regression 결과:\n",
      "Accuracy: 0.9406311892009017\n",
      "Classification Report:\n",
      "              precision    recall  f1-score   support\n",
      "\n",
      "           0       0.93      0.91      0.92    202771\n",
      "           1       0.95      0.96      0.95    323347\n",
      "\n",
      "    accuracy                           0.94    526118\n",
      "   macro avg       0.94      0.94      0.94    526118\n",
      "weighted avg       0.94      0.94      0.94    526118\n",
      "\n"
     ]
    }
   ],
   "source": [
    "# 1. Logistic Regression\n",
    "print(\"Logistic Regression 학습 중...\")\n",
    "logistic_model = LogisticRegression(random_state=42, max_iter=1000)\n",
    "\n",
    "# 모델 학습\n",
    "logistic_model.fit(X_train, y_train)\n",
    "\n",
    "# 테스트 데이터 예측\n",
    "y_pred_logistic = logistic_model.predict(X_test)\n",
    "\n",
    "# 성능 저장\n",
    "results['LogisticRegression'] = {\n",
    "    \"accuracy\": accuracy_score(y_test, y_pred_logistic),\n",
    "    \"classification_report\": classification_report(y_test, y_pred_logistic)\n",
    "}\n",
    "\n",
    "# 결과 출력\n",
    "print(\"Logistic Regression 결과:\")\n",
    "print(\"Accuracy:\", results['LogisticRegression']['accuracy'])\n",
    "print(\"Classification Report:\")\n",
    "print(results['LogisticRegression']['classification_report'])"
   ]
  },
  {
   "cell_type": "code",
   "execution_count": 13,
   "metadata": {
    "colab": {
     "base_uri": "https://localhost:8080/"
    },
    "id": "MKXQQdq06yWd",
    "outputId": "8b8e29da-63d2-4f5b-b47b-805df2ffe344"
   },
   "outputs": [
    {
     "name": "stdout",
     "output_type": "stream",
     "text": [
      "모델이 'hypertension_model.joblib'에 저장되었습니다.\n"
     ]
    }
   ],
   "source": [
    "# 모델 저장\n",
    "model_save_path = \"hypertension_model.joblib\"\n",
    "joblib.dump(logistic_model, model_save_path)\n",
    "print(f\"모델이 '{model_save_path}'에 저장되었습니다.\")"
   ]
  },
  {
   "cell_type": "code",
   "execution_count": null,
   "metadata": {
    "colab": {
     "base_uri": "https://localhost:8080/"
    },
    "id": "nDG9TadN7DAs",
    "outputId": "5a3162bc-81de-4c0d-d124-925cc00c5cc2"
   },
   "outputs": [
    {
     "name": "stdout",
     "output_type": "stream",
     "text": [
      "=======입력=======\n",
      "{'성별': 1, '연령대코드': 7, '신장': 175, '체중': 70, '수축기 혈압': 120, '이완기 혈압': 80}\n",
      "-------출력-------\n",
      "가장 높은 확률 클래스: 1,확률: 0.8708398146384673\n",
      "모델 추론 시간: 0.003055 초\n"
     ]
    }
   ],
   "source": [
    "# 1. 모델 로드\n",
    "def load_model(file_path):\n",
    "    \"\"\"\n",
    "    Load a model saved as a .joblib file.\n",
    "    \"\"\"\n",
    "    return joblib.load(file_path)\n",
    "\n",
    "# 2. 예측 함수\n",
    "def predict_disease_for_one(model, input_data):\n",
    "\n",
    "    # 입력 데이터를 DataFrame으로 변환\n",
    "    input_df = pd.DataFrame([input_data])\n",
    "\n",
    "    # 입력 데이터 검증\n",
    "    required_columns = ['성별', '연령대코드', '신장', '체중', '수축기 혈압', '이완기 혈압']\n",
    "    if not all(col in input_df.columns for col in required_columns):\n",
    "        raise ValueError(f\"Input data must contain columns: {required_columns}\")\n",
    "\n",
    "    # 추론 시작 시간\n",
    "    start_time = time.time()\n",
    "\n",
    "    # 모델 예측 (확률값)\n",
    "    probabilities = model.predict_proba(input_df)\n",
    "\n",
    "    # 추론 종료 시간\n",
    "    inference_time = time.time() - start_time\n",
    "\n",
    "    # 가장 높은 확률과 해당 클래스 추출\n",
    "    max_prob_idx = probabilities.argmax(axis=1)[0]  # 확률이 가장 높은 클래스 인덱스\n",
    "    max_prob = probabilities[0][max_prob_idx]       # 해당 확률\n",
    "    max_class = model.classes_[max_prob_idx]        # 해당 클래스\n",
    "\n",
    "    return max_class, max_prob, inference_time\n",
    "\n",
    "'''def get_user_input():\n",
    "    \"\"\"\n",
    "    사용자로부터 입력 데이터를 받아 딕셔너리 형태로 반환합니다.\n",
    "    \"\"\"\n",
    "    try:\n",
    "        성별 = int(input(\"성별 (남성: 1, 여성: 0): \"))\n",
    "        연령대코드 = int(input(\"연령대코드 (예: 7): \"))\n",
    "        신장 = float(input(\"신장(cm): \"))\n",
    "        체중 = float(input(\"체중(kg): \"))\n",
    "        수축기_혈압 = float(input(\"수축기 혈압(mmHg): \"))\n",
    "        이완기_혈압 = float(input(\"이완기 혈압(mmHg): \"))\n",
    "\n",
    "        # 입력 데이터를 딕셔너리로 반환\n",
    "        return {\n",
    "            '성별': 성별,\n",
    "            '연령대코드': 연령대코드,\n",
    "            '신장': 신장,\n",
    "            '체중': 체중,\n",
    "            '수축기 혈압': 수축기_혈압,\n",
    "            '이완기 혈압': 이완기_혈압\n",
    "        }\n",
    "    except ValueError as e:\n",
    "        print(\"잘못된 입력입니다. 숫자로 입력하세요.\")\n",
    "        return None\n",
    "'''\n",
    "# 사용 예제\n",
    "if __name__ == \"__main__\":\n",
    "    # 모델 파일 경로\n",
    "    model_file_path = \"/content/drive/MyDrive/석사 /2기/헬스케어데이터사이언스/헬스케어데이터사이언스/서민주/LogisticRegression_model.joblib\"\n",
    "\n",
    "    # 모델 로드\n",
    "    model = load_model(model_file_path)\n",
    "    #print(\"질병 예측을 위한 데이터를 입력하세요.\")\n",
    "    #single_input = get_user_input()\n",
    "\n",
    "    # 한 명의 샘플 입력 데이터\n",
    "    single_input = {\n",
    "        '성별': 1,\n",
    "        '연령대코드': 7,\n",
    "        '신장': 175,\n",
    "        '체중': 70,\n",
    "        '수축기 혈압': 120,\n",
    "        '이완기 혈압': 80\n",
    "    }\n",
    "\n",
    "    # 질병 확률 예측 및 속도 측정\n",
    "    max_class, max_prob, inference_time = predict_disease_for_one(model, single_input)\n",
    "    print(\"=======입력=======\")\n",
    "    print(single_input)\n",
    "    print(\"-------출력-------\")\n",
    "    print(f\"가장 높은 확률 클래스: {max_class},확률: {max_prob}\")\n",
    "    print(f\"모델 추론 시간: {inference_time:.6f} 초\")\n",
    "\n"
   ]
  },
  {
   "cell_type": "markdown",
   "metadata": {
    "id": "w2uTMNvgPWGr"
   },
   "source": [
    "#당뇨\n"
   ]
  },
  {
   "cell_type": "code",
   "execution_count": 14,
   "metadata": {
    "id": "w2r8IiCUPXtR"
   },
   "outputs": [],
   "source": [
    "# 독립변수 및 종속변수 정의\n",
    "X = health_data[['성별', '연령대코드', '신장', '체중',\n",
    "                 '수축기 혈압', '이완기 혈압']]\n",
    "y = health_data['당뇨병']"
   ]
  },
  {
   "cell_type": "code",
   "execution_count": 15,
   "metadata": {
    "id": "9_qulZIhPmsH"
   },
   "outputs": [],
   "source": [
    "# 클래스 불균형 해결 (언더샘플링)\n",
    "# y=1인 데이터 수와 동일한 수로 y=0을 샘플링\n",
    "X_minority = X[y == 1]\n",
    "y_minority = y[y == 1]\n",
    "\n",
    "X_majority = X[y == 0]\n",
    "y_majority = y[y == 0]\n",
    "\n",
    "# y=0인 데이터에서 무작위로 샘플링\n",
    "X_majority_downsampled, y_majority_downsampled = resample(\n",
    "    X_majority, y_majority,\n",
    "    n_samples=len(y_minority),    # y=1의 수에 맞게 샘플링\n",
    "    random_state=42,              # 재현성을 위한 시드 값\n",
    "    replace=False                 # 중복 샘플링 안 함\n",
    ")\n",
    "\n",
    "# 샘플링한 데이터 결합\n",
    "X_resampled = pd.concat([X_minority, X_majority_downsampled])\n",
    "y_resampled = pd.concat([y_minority, y_majority_downsampled])"
   ]
  },
  {
   "cell_type": "code",
   "execution_count": 16,
   "metadata": {
    "id": "fLlztZjHPnpn"
   },
   "outputs": [],
   "source": [
    "# 1. 데이터 준비 및 전처리\n",
    "# SMOTE로 데이터 증강\n",
    "smote = SMOTE(random_state=42)\n",
    "X_resampled, y_resampled = smote.fit_resample(X_resampled, y_resampled)\n",
    "\n",
    "# CNN은 3D 텐서를 입력으로 받으므로 차원 추가\n",
    "X_resampled = X_resampled.values.reshape(X_resampled.shape[0], X_resampled.shape[1], 1)  # (샘플 수, 특성 수, 채널 수)\n",
    "X_train, X_test, y_train, y_test = train_test_split(X_resampled, y_resampled, test_size=0.2, stratify=y_resampled, random_state=42)\n",
    "\n",
    "# 데이터 정규화\n",
    "scaler = StandardScaler()\n",
    "X_train = scaler.fit_transform(X_train.reshape(X_train.shape[0], -1)).reshape(X_train.shape)  # 스케일링 후 복원\n",
    "X_test = scaler.transform(X_test.reshape(X_test.shape[0], -1)).reshape(X_test.shape)"
   ]
  },
  {
   "cell_type": "code",
   "execution_count": 17,
   "metadata": {
    "colab": {
     "base_uri": "https://localhost:8080/"
    },
    "id": "Rm-JS9quPolT",
    "outputId": "48d968f9-ca1b-4535-eca2-fd6928c1d50a"
   },
   "outputs": [
    {
     "name": "stderr",
     "output_type": "stream",
     "text": [
      "c:\\Users\\Master\\anaconda3\\envs\\uni\\Lib\\site-packages\\keras\\src\\layers\\convolutional\\base_conv.py:107: UserWarning: Do not pass an `input_shape`/`input_dim` argument to a layer. When using Sequential models, prefer using an `Input(shape)` object as the first layer in the model instead.\n",
      "  super().__init__(activity_regularizer=activity_regularizer, **kwargs)\n"
     ]
    }
   ],
   "source": [
    "model = Sequential([\n",
    "    Conv1D(filters=32, kernel_size=2, activation='relu', input_shape=(X_train.shape[1], 1), padding='same'),  # 필터 크기 조정 및 SAME 패딩\n",
    "    MaxPooling1D(pool_size=2),\n",
    "    Dropout(0.4),# 0.3 최적\n",
    "    Conv1D(filters=64, kernel_size=2, activation='relu', padding='same'),  # SAME 패딩\n",
    "    MaxPooling1D(pool_size=2),\n",
    "    Dropout(0.4),\n",
    "    Flatten(),\n",
    "    Dense(64, activation='relu'),\n",
    "    Dropout(0.4),\n",
    "    Dense(1, activation='sigmoid')\n",
    "])\n",
    "\n",
    "# 3. 모델 컴파일\n",
    "model.compile(optimizer='adam', loss='binary_crossentropy', metrics=['accuracy'])"
   ]
  },
  {
   "cell_type": "code",
   "execution_count": 18,
   "metadata": {
    "colab": {
     "base_uri": "https://localhost:8080/"
    },
    "id": "t_i5UvxgPtan",
    "outputId": "d4ef234e-85c7-4d0b-c956-61960593b436"
   },
   "outputs": [
    {
     "name": "stdout",
     "output_type": "stream",
     "text": [
      "Epoch 1/20\n",
      "\u001b[1m6990/6990\u001b[0m \u001b[32m━━━━━━━━━━━━━━━━━━━━\u001b[0m\u001b[37m\u001b[0m \u001b[1m33s\u001b[0m 4ms/step - accuracy: 0.6118 - loss: 0.6551 - val_accuracy: 0.6577 - val_loss: 0.6212\n",
      "Epoch 2/20\n",
      "\u001b[1m6990/6990\u001b[0m \u001b[32m━━━━━━━━━━━━━━━━━━━━\u001b[0m\u001b[37m\u001b[0m \u001b[1m36s\u001b[0m 5ms/step - accuracy: 0.6463 - loss: 0.6304 - val_accuracy: 0.6511 - val_loss: 0.6199\n",
      "Epoch 3/20\n",
      "\u001b[1m6990/6990\u001b[0m \u001b[32m━━━━━━━━━━━━━━━━━━━━\u001b[0m\u001b[37m\u001b[0m \u001b[1m36s\u001b[0m 5ms/step - accuracy: 0.6455 - loss: 0.6273 - val_accuracy: 0.6622 - val_loss: 0.6143\n",
      "Epoch 4/20\n",
      "\u001b[1m6990/6990\u001b[0m \u001b[32m━━━━━━━━━━━━━━━━━━━━\u001b[0m\u001b[37m\u001b[0m \u001b[1m23s\u001b[0m 3ms/step - accuracy: 0.6530 - loss: 0.6255 - val_accuracy: 0.6564 - val_loss: 0.6211\n",
      "Epoch 5/20\n",
      "\u001b[1m6990/6990\u001b[0m \u001b[32m━━━━━━━━━━━━━━━━━━━━\u001b[0m\u001b[37m\u001b[0m \u001b[1m24s\u001b[0m 3ms/step - accuracy: 0.6493 - loss: 0.6274 - val_accuracy: 0.6599 - val_loss: 0.6182\n",
      "Epoch 6/20\n",
      "\u001b[1m6990/6990\u001b[0m \u001b[32m━━━━━━━━━━━━━━━━━━━━\u001b[0m\u001b[37m\u001b[0m \u001b[1m33s\u001b[0m 5ms/step - accuracy: 0.6489 - loss: 0.6283 - val_accuracy: 0.6609 - val_loss: 0.6133\n",
      "Epoch 7/20\n",
      "\u001b[1m6990/6990\u001b[0m \u001b[32m━━━━━━━━━━━━━━━━━━━━\u001b[0m\u001b[37m\u001b[0m \u001b[1m36s\u001b[0m 5ms/step - accuracy: 0.6477 - loss: 0.6268 - val_accuracy: 0.6568 - val_loss: 0.6144\n",
      "Epoch 8/20\n",
      "\u001b[1m6990/6990\u001b[0m \u001b[32m━━━━━━━━━━━━━━━━━━━━\u001b[0m\u001b[37m\u001b[0m \u001b[1m37s\u001b[0m 5ms/step - accuracy: 0.6500 - loss: 0.6263 - val_accuracy: 0.6604 - val_loss: 0.6151\n",
      "Epoch 9/20\n",
      "\u001b[1m6990/6990\u001b[0m \u001b[32m━━━━━━━━━━━━━━━━━━━━\u001b[0m\u001b[37m\u001b[0m \u001b[1m33s\u001b[0m 5ms/step - accuracy: 0.6489 - loss: 0.6276 - val_accuracy: 0.6616 - val_loss: 0.6137\n",
      "Epoch 10/20\n",
      "\u001b[1m6990/6990\u001b[0m \u001b[32m━━━━━━━━━━━━━━━━━━━━\u001b[0m\u001b[37m\u001b[0m \u001b[1m32s\u001b[0m 5ms/step - accuracy: 0.6503 - loss: 0.6266 - val_accuracy: 0.6622 - val_loss: 0.6122\n",
      "Epoch 11/20\n",
      "\u001b[1m6990/6990\u001b[0m \u001b[32m━━━━━━━━━━━━━━━━━━━━\u001b[0m\u001b[37m\u001b[0m \u001b[1m38s\u001b[0m 5ms/step - accuracy: 0.6520 - loss: 0.6267 - val_accuracy: 0.6582 - val_loss: 0.6184\n",
      "Epoch 12/20\n",
      "\u001b[1m6990/6990\u001b[0m \u001b[32m━━━━━━━━━━━━━━━━━━━━\u001b[0m\u001b[37m\u001b[0m \u001b[1m33s\u001b[0m 5ms/step - accuracy: 0.6516 - loss: 0.6252 - val_accuracy: 0.6597 - val_loss: 0.6131\n",
      "Epoch 13/20\n",
      "\u001b[1m6990/6990\u001b[0m \u001b[32m━━━━━━━━━━━━━━━━━━━━\u001b[0m\u001b[37m\u001b[0m \u001b[1m39s\u001b[0m 4ms/step - accuracy: 0.6490 - loss: 0.6275 - val_accuracy: 0.6555 - val_loss: 0.6138\n",
      "Epoch 14/20\n",
      "\u001b[1m6990/6990\u001b[0m \u001b[32m━━━━━━━━━━━━━━━━━━━━\u001b[0m\u001b[37m\u001b[0m \u001b[1m38s\u001b[0m 5ms/step - accuracy: 0.6552 - loss: 0.6224 - val_accuracy: 0.6606 - val_loss: 0.6146\n",
      "Epoch 15/20\n",
      "\u001b[1m6990/6990\u001b[0m \u001b[32m━━━━━━━━━━━━━━━━━━━━\u001b[0m\u001b[37m\u001b[0m \u001b[1m34s\u001b[0m 4ms/step - accuracy: 0.6499 - loss: 0.6264 - val_accuracy: 0.6612 - val_loss: 0.6118\n",
      "Epoch 16/20\n",
      "\u001b[1m6990/6990\u001b[0m \u001b[32m━━━━━━━━━━━━━━━━━━━━\u001b[0m\u001b[37m\u001b[0m \u001b[1m30s\u001b[0m 4ms/step - accuracy: 0.6526 - loss: 0.6223 - val_accuracy: 0.6607 - val_loss: 0.6137\n",
      "Epoch 17/20\n",
      "\u001b[1m6990/6990\u001b[0m \u001b[32m━━━━━━━━━━━━━━━━━━━━\u001b[0m\u001b[37m\u001b[0m \u001b[1m41s\u001b[0m 4ms/step - accuracy: 0.6511 - loss: 0.6250 - val_accuracy: 0.6587 - val_loss: 0.6134\n",
      "Epoch 18/20\n",
      "\u001b[1m6990/6990\u001b[0m \u001b[32m━━━━━━━━━━━━━━━━━━━━\u001b[0m\u001b[37m\u001b[0m \u001b[1m30s\u001b[0m 4ms/step - accuracy: 0.6523 - loss: 0.6242 - val_accuracy: 0.6587 - val_loss: 0.6127\n",
      "Epoch 19/20\n",
      "\u001b[1m6990/6990\u001b[0m \u001b[32m━━━━━━━━━━━━━━━━━━━━\u001b[0m\u001b[37m\u001b[0m \u001b[1m29s\u001b[0m 4ms/step - accuracy: 0.6557 - loss: 0.6222 - val_accuracy: 0.6609 - val_loss: 0.6122\n",
      "Epoch 20/20\n",
      "\u001b[1m6990/6990\u001b[0m \u001b[32m━━━━━━━━━━━━━━━━━━━━\u001b[0m\u001b[37m\u001b[0m \u001b[1m29s\u001b[0m 4ms/step - accuracy: 0.6539 - loss: 0.6229 - val_accuracy: 0.6627 - val_loss: 0.6128\n",
      "\u001b[1m547/547\u001b[0m \u001b[32m━━━━━━━━━━━━━━━━━━━━\u001b[0m\u001b[37m\u001b[0m \u001b[1m1s\u001b[0m 2ms/step\n"
     ]
    },
    {
     "name": "stderr",
     "output_type": "stream",
     "text": [
      "WARNING:absl:You are saving your model as an HDF5 file via `model.save()` or `keras.saving.save_model(model)`. This file format is considered legacy. We recommend using instead the native Keras format, e.g. `model.save('my_model.keras')` or `keras.saving.save_model(model, 'my_model.keras')`. \n"
     ]
    },
    {
     "name": "stdout",
     "output_type": "stream",
     "text": [
      "Accuracy: 0.6666094420600859\n",
      "              precision    recall  f1-score   support\n",
      "\n",
      "           0       0.72      0.55      0.62      8738\n",
      "           1       0.64      0.78      0.70      8737\n",
      "\n",
      "    accuracy                           0.67     17475\n",
      "   macro avg       0.68      0.67      0.66     17475\n",
      "weighted avg       0.68      0.67      0.66     17475\n",
      "\n",
      "모델이 .h5 형식으로 저장되었습니다.\n"
     ]
    }
   ],
   "source": [
    "history = model.fit(X_train, y_train, epochs=20, batch_size=8, validation_split=0.2, verbose=1)\n",
    "\n",
    "y_pred = model.predict(X_test)\n",
    "y_pred_classes = (y_pred > 0.48).astype(int).reshape(-1)\n",
    "\n",
    "# 성능 평가\n",
    "print(\"Accuracy:\", accuracy_score(y_test, y_pred_classes))\n",
    "print(classification_report(y_test, y_pred_classes))\n",
    "\n",
    "model.save(\"./diabetes_model.h5\")\n",
    "print(\"모델이 .h5 형식으로 저장되었습니다.\")\n"
   ]
  },
  {
   "cell_type": "markdown",
   "metadata": {
    "id": "-hAMV81f4g6O"
   },
   "source": [
    "acc 63, recall 93-> 모델 예측할 때 무조건 1\n",
    "\n",
    "그래서 recall 좀 줄어도 확률 보여줄 수 있는 모델 사용"
   ]
  },
  {
   "cell_type": "code",
   "execution_count": null,
   "metadata": {
    "colab": {
     "base_uri": "https://localhost:8080/"
    },
    "id": "4Ge_q5YSQd6T",
    "outputId": "28edbb4e-6935-4015-aab9-fa12e7a87678"
   },
   "outputs": [
    {
     "name": "stderr",
     "output_type": "stream",
     "text": [
      "WARNING:absl:Compiled the loaded model, but the compiled metrics have yet to be built. `model.compile_metrics` will be empty until you train or evaluate the model.\n"
     ]
    },
    {
     "name": "stdout",
     "output_type": "stream",
     "text": [
      "\u001b[1m1/1\u001b[0m \u001b[32m━━━━━━━━━━━━━━━━━━━━\u001b[0m\u001b[37m\u001b[0m \u001b[1m0s\u001b[0m 209ms/step\n",
      "======= 입력 =======\n",
      "입력 데이터: {'성별': 1, '연령대코드': 7, '신장': 175, '체중': 70, '수축기 혈압': 130, '이완기 혈압': 80}\n",
      "------- 출력 -------\n",
      "가장 높은 확률 클래스: 1, 확률: 0.9999997615814209\n",
      "모델 추론 시간: 0.296774 초\n"
     ]
    }
   ],
   "source": [
    "# 1. 모델 로드\n",
    "def load_model(file_path):\n",
    "    model = tf.keras.models.load_model(file_path)\n",
    "    model.compile(optimizer='adam', loss='binary_crossentropy', metrics=['accuracy'])\n",
    "    return model\n",
    "\n",
    "# 2. 예측 함수\n",
    "def predict_disease_for_one(model, input_data, framework=\"tensorflow\"):\n",
    "    # 입력 데이터를 DataFrame으로 변환\n",
    "    input_df = pd.DataFrame([input_data])\n",
    "\n",
    "    # 입력 데이터 검증\n",
    "    required_columns = ['성별', '연령대코드', '신장', '체중', '수축기 혈압', '이완기 혈압']\n",
    "    if not all(col in input_df.columns for col in required_columns):\n",
    "        raise ValueError(f\"Input data must contain columns: {required_columns}\")\n",
    "\n",
    "    # 모델 입력 형식에 맞게 변환\n",
    "    input_array = input_df.values.reshape(1, -1)  # (1, feature_count)\n",
    "\n",
    "    # 추론 시작 시간\n",
    "    start_time = time.time()\n",
    "\n",
    "    # 모델 예측\n",
    "    probabilities = model.predict(input_array)\n",
    "    if probabilities.shape[1] == 1:  # Binary classification\n",
    "        class_1_prob = probabilities[0][0]\n",
    "        class_0_prob = 1 - class_1_prob\n",
    "        probabilities = [[class_0_prob, class_1_prob]]\n",
    "        classes = [0, 1]\n",
    "    else:  # Multi-class classification\n",
    "        classes = list(range(probabilities.shape[1]))\n",
    "\n",
    "    # 추론 종료 시간\n",
    "    inference_time = time.time() - start_time\n",
    "\n",
    "    # 가장 높은 확률과 해당 클래스 추출\n",
    "    max_prob_idx = probabilities[0].index(max(probabilities[0]))  # 확률이 가장 높은 클래스 인덱스\n",
    "    max_prob = probabilities[0][max_prob_idx]                    # 해당 확률\n",
    "    max_class = classes[max_prob_idx]                            # 해당 클래스\n",
    "\n",
    "    return max_class, max_prob, inference_time\n",
    "\n",
    "# 사용 예제\n",
    "if __name__ == \"__main__\":\n",
    "    # 모델 파일 경로 (.h5 파일)\n",
    "    model_file_path = \"/content/drive/MyDrive/석사 /2기/헬스케어데이터사이언스/헬스케어데이터사이언스/서민주/acc66_recall84.h5\"\n",
    "\n",
    "    # 모델 로드\n",
    "    model = load_model(model_file_path)\n",
    "\n",
    "    # 한 명의 샘플 입력 데이터\n",
    "    single_input = {\n",
    "        '성별': 1,\n",
    "        '연령대코드':7,\n",
    "        '신장': 175,\n",
    "        '체중': 70,\n",
    "        '수축기 혈압': 130,\n",
    "        '이완기 혈압': 80\n",
    "    }\n",
    "\n",
    "    # 질병 확률 예측 및 속도 측정\n",
    "    tf_max_class, tf_max_prob, tf_inference_time = predict_disease_for_one(model, single_input, framework=\"tensorflow\")\n",
    "    print(\"======= 입력 =======\")\n",
    "    print(f\"입력 데이터: {single_input}\")\n",
    "    print(\"------- 출력 -------\")\n",
    "\n",
    "    print(f\"가장 높은 확률 클래스: {tf_max_class}, 확률: {tf_max_prob}\")\n",
    "    print(f\"모델 추론 시간: {tf_inference_time:.6f} 초\")\n"
   ]
  }
 ],
 "metadata": {
  "accelerator": "GPU",
  "colab": {
   "gpuType": "T4",
   "provenance": []
  },
  "kernelspec": {
   "display_name": "uni",
   "language": "python",
   "name": "python3"
  },
  "language_info": {
   "codemirror_mode": {
    "name": "ipython",
    "version": 3
   },
   "file_extension": ".py",
   "mimetype": "text/x-python",
   "name": "python",
   "nbconvert_exporter": "python",
   "pygments_lexer": "ipython3",
   "version": "3.12.0"
  }
 },
 "nbformat": 4,
 "nbformat_minor": 0
}
