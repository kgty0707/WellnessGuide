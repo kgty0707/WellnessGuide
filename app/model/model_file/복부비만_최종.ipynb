{
 "cells": [
  {
   "cell_type": "code",
   "execution_count": 1,
   "id": "6ffe3565",
   "metadata": {},
   "outputs": [
    {
     "name": "stderr",
     "output_type": "stream",
     "text": [
      "C:\\Users\\Master\\AppData\\Local\\Temp\\ipykernel_1548\\1614333348.py:4: DtypeWarning: Columns (21) have mixed types. Specify dtype option on import or set low_memory=False.\n",
      "  health_data = pd.read_csv(file_path)\n"
     ]
    }
   ],
   "source": [
    "import pandas as pd\n",
    "\n",
    "file_path = \".\\통합데이터_전처리_당뇨고혈압추가.csv\"\n",
    "health_data = pd.read_csv(file_path)"
   ]
  },
  {
   "cell_type": "code",
   "execution_count": 2,
   "id": "3d13e9c3",
   "metadata": {},
   "outputs": [],
   "source": [
    "from sklearn.model_selection import train_test_split\n",
    "from sklearn.ensemble import RandomForestClassifier\n",
    "from sklearn.metrics import classification_report, accuracy_score\n",
    "from sklearn.preprocessing import StandardScaler\n",
    "import joblib\n",
    "import xgboost as xgb"
   ]
  },
  {
   "cell_type": "code",
   "execution_count": 3,
   "id": "73ae2335",
   "metadata": {},
   "outputs": [],
   "source": [
    "# 데이터 준비 (health_data는 이미 로드된 데이터라고 가정)\n",
    "X = health_data[['성별', '연령대코드', '신장', '체중', \n",
    "                 '수축기 혈압', '이완기 혈압']]\n",
    "y = health_data['Abdominal_Obesity']\n",
    "\n",
    "# 범주형 변수 처리 (필요시)\n",
    "X = pd.get_dummies(X, drop_first=True)\n",
    "\n",
    "# 결측치 처리\n",
    "X = X.dropna()\n",
    "y = y[X.index]\n",
    "\n",
    "# 데이터 스케일링 (필요시)\n",
    "scaler = StandardScaler()\n",
    "X_scaled = scaler.fit_transform(X)\n",
    "\n",
    "# 훈련 데이터와 테스트 데이터 나누기\n",
    "X_train, X_test, y_train, y_test = train_test_split(X_scaled, y, test_size=0.2, random_state=42)"
   ]
  },
  {
   "cell_type": "code",
   "execution_count": 4,
   "id": "867ddf2a",
   "metadata": {},
   "outputs": [],
   "source": [
    "# XGBoost 모델 정의\n",
    "xgb_model = xgb.XGBClassifier(\n",
    "    objective='binary:logistic',  # 이진 분류 문제\n",
    "    eval_metric='logloss',        # 평가 지표\n",
    "    learning_rate=0.01,           # 학습률\n",
    "    max_depth=10,                 # 트리 최대 깊이\n",
    "    n_estimators=200,             # 부스팅 반복 횟수\n",
    "    scale_pos_weight=10,  # 클래스 불균형 처리\n",
    "    random_state=42\n",
    ")"
   ]
  },
  {
   "cell_type": "code",
   "execution_count": 6,
   "id": "d0c36346",
   "metadata": {},
   "outputs": [
    {
     "name": "stderr",
     "output_type": "stream",
     "text": [
      "c:\\Users\\Master\\anaconda3\\envs\\uni\\Lib\\site-packages\\xgboost\\sklearn.py:892: UserWarning: The use of label encoder in XGBClassifier is deprecated and will be removed in a future release. To remove this warning, do the following: 1) Pass option use_label_encoder=False when constructing XGBClassifier object; and 2) Encode your labels (y) as integers starting with 0, i.e. 0, 1, 2, ..., [num_class - 1].\n",
      "  warnings.warn(label_encoder_deprecation_msg, UserWarning)\n"
     ]
    },
    {
     "name": "stdout",
     "output_type": "stream",
     "text": [
      "[0]\tvalidation_0-logloss:0.68945\tvalidation_1-logloss:0.68935\n",
      "[1]\tvalidation_0-logloss:0.68672\tvalidation_1-logloss:0.68531\n",
      "[2]\tvalidation_0-logloss:0.68172\tvalidation_1-logloss:0.68165\n",
      "[3]\tvalidation_0-logloss:0.67768\tvalidation_1-logloss:0.67821\n",
      "[4]\tvalidation_0-logloss:0.67512\tvalidation_1-logloss:0.67478\n",
      "[5]\tvalidation_0-logloss:0.67115\tvalidation_1-logloss:0.67131\n",
      "[6]\tvalidation_0-logloss:0.66715\tvalidation_1-logloss:0.66787\n",
      "[7]\tvalidation_0-logloss:0.66497\tvalidation_1-logloss:0.66460\n",
      "[8]\tvalidation_0-logloss:0.66193\tvalidation_1-logloss:0.66129\n",
      "[9]\tvalidation_0-logloss:0.65818\tvalidation_1-logloss:0.65815\n",
      "[10]\tvalidation_0-logloss:0.65446\tvalidation_1-logloss:0.65510\n",
      "[11]\tvalidation_0-logloss:0.65265\tvalidation_1-logloss:0.65211\n",
      "[12]\tvalidation_0-logloss:0.64971\tvalidation_1-logloss:0.64915\n",
      "[13]\tvalidation_0-logloss:0.64631\tvalidation_1-logloss:0.64630\n",
      "[14]\tvalidation_0-logloss:0.64322\tvalidation_1-logloss:0.64352\n",
      "[15]\tvalidation_0-logloss:0.64104\tvalidation_1-logloss:0.64081\n",
      "[16]\tvalidation_0-logloss:0.63838\tvalidation_1-logloss:0.63811\n",
      "[17]\tvalidation_0-logloss:0.63554\tvalidation_1-logloss:0.63555\n",
      "[18]\tvalidation_0-logloss:0.63242\tvalidation_1-logloss:0.63298\n",
      "[19]\tvalidation_0-logloss:0.63052\tvalidation_1-logloss:0.63042\n",
      "[20]\tvalidation_0-logloss:0.62829\tvalidation_1-logloss:0.62798\n",
      "[21]\tvalidation_0-logloss:0.62559\tvalidation_1-logloss:0.62567\n",
      "[22]\tvalidation_0-logloss:0.62314\tvalidation_1-logloss:0.62330\n",
      "[23]\tvalidation_0-logloss:0.62062\tvalidation_1-logloss:0.62101\n",
      "[24]\tvalidation_0-logloss:0.61881\tvalidation_1-logloss:0.61878\n",
      "[25]\tvalidation_0-logloss:0.61684\tvalidation_1-logloss:0.61658\n",
      "[26]\tvalidation_0-logloss:0.61446\tvalidation_1-logloss:0.61448\n",
      "[27]\tvalidation_0-logloss:0.61217\tvalidation_1-logloss:0.61235\n",
      "[28]\tvalidation_0-logloss:0.60989\tvalidation_1-logloss:0.61031\n",
      "[29]\tvalidation_0-logloss:0.60826\tvalidation_1-logloss:0.60837\n",
      "[30]\tvalidation_0-logloss:0.60654\tvalidation_1-logloss:0.60636\n",
      "[31]\tvalidation_0-logloss:0.60476\tvalidation_1-logloss:0.60443\n",
      "[32]\tvalidation_0-logloss:0.60274\tvalidation_1-logloss:0.60256\n",
      "[33]\tvalidation_0-logloss:0.60051\tvalidation_1-logloss:0.60080\n",
      "[34]\tvalidation_0-logloss:0.59878\tvalidation_1-logloss:0.59898\n",
      "[35]\tvalidation_0-logloss:0.59736\tvalidation_1-logloss:0.59721\n",
      "[36]\tvalidation_0-logloss:0.59561\tvalidation_1-logloss:0.59548\n",
      "[37]\tvalidation_0-logloss:0.59383\tvalidation_1-logloss:0.59389\n",
      "[38]\tvalidation_0-logloss:0.59211\tvalidation_1-logloss:0.59220\n",
      "[39]\tvalidation_0-logloss:0.59051\tvalidation_1-logloss:0.59060\n",
      "[40]\tvalidation_0-logloss:0.58886\tvalidation_1-logloss:0.58908\n",
      "[41]\tvalidation_0-logloss:0.58760\tvalidation_1-logloss:0.58751\n",
      "[42]\tvalidation_0-logloss:0.58608\tvalidation_1-logloss:0.58604\n",
      "[43]\tvalidation_0-logloss:0.58460\tvalidation_1-logloss:0.58451\n",
      "[44]\tvalidation_0-logloss:0.58313\tvalidation_1-logloss:0.58314\n",
      "[45]\tvalidation_0-logloss:0.58157\tvalidation_1-logloss:0.58175\n",
      "[46]\tvalidation_0-logloss:0.58013\tvalidation_1-logloss:0.58034\n",
      "[47]\tvalidation_0-logloss:0.57893\tvalidation_1-logloss:0.57903\n",
      "[48]\tvalidation_0-logloss:0.57776\tvalidation_1-logloss:0.57773\n",
      "[49]\tvalidation_0-logloss:0.57650\tvalidation_1-logloss:0.57644\n",
      "[50]\tvalidation_0-logloss:0.57530\tvalidation_1-logloss:0.57519\n",
      "[51]\tvalidation_0-logloss:0.57401\tvalidation_1-logloss:0.57398\n",
      "[52]\tvalidation_0-logloss:0.57260\tvalidation_1-logloss:0.57277\n",
      "[53]\tvalidation_0-logloss:0.57139\tvalidation_1-logloss:0.57162\n",
      "[54]\tvalidation_0-logloss:0.57031\tvalidation_1-logloss:0.57048\n",
      "[55]\tvalidation_0-logloss:0.56940\tvalidation_1-logloss:0.56933\n",
      "[56]\tvalidation_0-logloss:0.56827\tvalidation_1-logloss:0.56827\n",
      "[57]\tvalidation_0-logloss:0.56715\tvalidation_1-logloss:0.56722\n",
      "[58]\tvalidation_0-logloss:0.56615\tvalidation_1-logloss:0.56620\n",
      "[59]\tvalidation_0-logloss:0.56532\tvalidation_1-logloss:0.56512\n",
      "[60]\tvalidation_0-logloss:0.56398\tvalidation_1-logloss:0.56413\n",
      "[61]\tvalidation_0-logloss:0.56281\tvalidation_1-logloss:0.56312\n",
      "[62]\tvalidation_0-logloss:0.56213\tvalidation_1-logloss:0.56222\n",
      "[63]\tvalidation_0-logloss:0.56129\tvalidation_1-logloss:0.56132\n",
      "[64]\tvalidation_0-logloss:0.56037\tvalidation_1-logloss:0.56040\n",
      "[65]\tvalidation_0-logloss:0.55948\tvalidation_1-logloss:0.55954\n",
      "[66]\tvalidation_0-logloss:0.55855\tvalidation_1-logloss:0.55866\n",
      "[67]\tvalidation_0-logloss:0.55781\tvalidation_1-logloss:0.55783\n",
      "[68]\tvalidation_0-logloss:0.55688\tvalidation_1-logloss:0.55704\n",
      "[69]\tvalidation_0-logloss:0.55606\tvalidation_1-logloss:0.55616\n",
      "[70]\tvalidation_0-logloss:0.55518\tvalidation_1-logloss:0.55542\n",
      "[71]\tvalidation_0-logloss:0.55457\tvalidation_1-logloss:0.55462\n",
      "[72]\tvalidation_0-logloss:0.55392\tvalidation_1-logloss:0.55389\n",
      "[73]\tvalidation_0-logloss:0.55329\tvalidation_1-logloss:0.55319\n",
      "[74]\tvalidation_0-logloss:0.55247\tvalidation_1-logloss:0.55246\n",
      "[75]\tvalidation_0-logloss:0.55183\tvalidation_1-logloss:0.55177\n",
      "[76]\tvalidation_0-logloss:0.55103\tvalidation_1-logloss:0.55109\n",
      "[77]\tvalidation_0-logloss:0.55044\tvalidation_1-logloss:0.55049\n",
      "[78]\tvalidation_0-logloss:0.54978\tvalidation_1-logloss:0.54980\n",
      "[79]\tvalidation_0-logloss:0.54910\tvalidation_1-logloss:0.54918\n",
      "[80]\tvalidation_0-logloss:0.54832\tvalidation_1-logloss:0.54861\n",
      "[81]\tvalidation_0-logloss:0.54777\tvalidation_1-logloss:0.54801\n",
      "[82]\tvalidation_0-logloss:0.54719\tvalidation_1-logloss:0.54745\n",
      "[83]\tvalidation_0-logloss:0.54691\tvalidation_1-logloss:0.54683\n",
      "[84]\tvalidation_0-logloss:0.54616\tvalidation_1-logloss:0.54632\n",
      "[85]\tvalidation_0-logloss:0.54561\tvalidation_1-logloss:0.54579\n",
      "[86]\tvalidation_0-logloss:0.54504\tvalidation_1-logloss:0.54524\n",
      "[87]\tvalidation_0-logloss:0.54460\tvalidation_1-logloss:0.54477\n",
      "[88]\tvalidation_0-logloss:0.54416\tvalidation_1-logloss:0.54428\n",
      "[89]\tvalidation_0-logloss:0.54373\tvalidation_1-logloss:0.54380\n",
      "[90]\tvalidation_0-logloss:0.54327\tvalidation_1-logloss:0.54333\n",
      "[91]\tvalidation_0-logloss:0.54268\tvalidation_1-logloss:0.54290\n",
      "[92]\tvalidation_0-logloss:0.54208\tvalidation_1-logloss:0.54244\n",
      "[93]\tvalidation_0-logloss:0.54175\tvalidation_1-logloss:0.54201\n",
      "[94]\tvalidation_0-logloss:0.54147\tvalidation_1-logloss:0.54160\n",
      "[95]\tvalidation_0-logloss:0.54117\tvalidation_1-logloss:0.54122\n",
      "[96]\tvalidation_0-logloss:0.54080\tvalidation_1-logloss:0.54083\n",
      "[97]\tvalidation_0-logloss:0.54040\tvalidation_1-logloss:0.54043\n",
      "[98]\tvalidation_0-logloss:0.53984\tvalidation_1-logloss:0.54012\n",
      "[99]\tvalidation_0-logloss:0.53948\tvalidation_1-logloss:0.53968\n",
      "[100]\tvalidation_0-logloss:0.53920\tvalidation_1-logloss:0.53941\n",
      "[101]\tvalidation_0-logloss:0.53889\tvalidation_1-logloss:0.53906\n",
      "[102]\tvalidation_0-logloss:0.53873\tvalidation_1-logloss:0.53876\n",
      "[103]\tvalidation_0-logloss:0.53841\tvalidation_1-logloss:0.53840\n",
      "[104]\tvalidation_0-logloss:0.53802\tvalidation_1-logloss:0.53814\n",
      "[105]\tvalidation_0-logloss:0.53756\tvalidation_1-logloss:0.53781\n",
      "[106]\tvalidation_0-logloss:0.53723\tvalidation_1-logloss:0.53755\n",
      "[107]\tvalidation_0-logloss:0.53685\tvalidation_1-logloss:0.53727\n",
      "[108]\tvalidation_0-logloss:0.53674\tvalidation_1-logloss:0.53701\n",
      "[109]\tvalidation_0-logloss:0.53662\tvalidation_1-logloss:0.53678\n",
      "[110]\tvalidation_0-logloss:0.53646\tvalidation_1-logloss:0.53651\n",
      "[111]\tvalidation_0-logloss:0.53624\tvalidation_1-logloss:0.53628\n",
      "[112]\tvalidation_0-logloss:0.53601\tvalidation_1-logloss:0.53603\n",
      "[113]\tvalidation_0-logloss:0.53563\tvalidation_1-logloss:0.53583\n",
      "[114]\tvalidation_0-logloss:0.53540\tvalidation_1-logloss:0.53563\n",
      "[115]\tvalidation_0-logloss:0.53521\tvalidation_1-logloss:0.53541\n",
      "[116]\tvalidation_0-logloss:0.53503\tvalidation_1-logloss:0.53524\n",
      "[117]\tvalidation_0-logloss:0.53483\tvalidation_1-logloss:0.53504\n",
      "[118]\tvalidation_0-logloss:0.53475\tvalidation_1-logloss:0.53487\n",
      "[119]\tvalidation_0-logloss:0.53462\tvalidation_1-logloss:0.53470\n",
      "[120]\tvalidation_0-logloss:0.53440\tvalidation_1-logloss:0.53450\n",
      "[121]\tvalidation_0-logloss:0.53423\tvalidation_1-logloss:0.53438\n",
      "[122]\tvalidation_0-logloss:0.53410\tvalidation_1-logloss:0.53423\n",
      "[123]\tvalidation_0-logloss:0.53380\tvalidation_1-logloss:0.53408\n",
      "[124]\tvalidation_0-logloss:0.53363\tvalidation_1-logloss:0.53394\n",
      "[125]\tvalidation_0-logloss:0.53355\tvalidation_1-logloss:0.53382\n",
      "[126]\tvalidation_0-logloss:0.53350\tvalidation_1-logloss:0.53370\n",
      "[127]\tvalidation_0-logloss:0.53336\tvalidation_1-logloss:0.53357\n",
      "[128]\tvalidation_0-logloss:0.53338\tvalidation_1-logloss:0.53347\n",
      "[129]\tvalidation_0-logloss:0.53330\tvalidation_1-logloss:0.53338\n",
      "[130]\tvalidation_0-logloss:0.53305\tvalidation_1-logloss:0.53326\n",
      "[131]\tvalidation_0-logloss:0.53293\tvalidation_1-logloss:0.53318\n",
      "[132]\tvalidation_0-logloss:0.53287\tvalidation_1-logloss:0.53310\n",
      "[133]\tvalidation_0-logloss:0.53276\tvalidation_1-logloss:0.53300\n",
      "[134]\tvalidation_0-logloss:0.53266\tvalidation_1-logloss:0.53295\n",
      "[135]\tvalidation_0-logloss:0.53267\tvalidation_1-logloss:0.53288\n",
      "[136]\tvalidation_0-logloss:0.53268\tvalidation_1-logloss:0.53281\n",
      "[137]\tvalidation_0-logloss:0.53260\tvalidation_1-logloss:0.53278\n",
      "[138]\tvalidation_0-logloss:0.53257\tvalidation_1-logloss:0.53272\n",
      "[139]\tvalidation_0-logloss:0.53252\tvalidation_1-logloss:0.53265\n",
      "[140]\tvalidation_0-logloss:0.53243\tvalidation_1-logloss:0.53262\n",
      "[141]\tvalidation_0-logloss:0.53234\tvalidation_1-logloss:0.53259\n",
      "[142]\tvalidation_0-logloss:0.53225\tvalidation_1-logloss:0.53255\n",
      "[143]\tvalidation_0-logloss:0.53224\tvalidation_1-logloss:0.53252\n",
      "[144]\tvalidation_0-logloss:0.53210\tvalidation_1-logloss:0.53252\n",
      "[145]\tvalidation_0-logloss:0.53216\tvalidation_1-logloss:0.53250\n",
      "[146]\tvalidation_0-logloss:0.53217\tvalidation_1-logloss:0.53247\n",
      "[147]\tvalidation_0-logloss:0.53219\tvalidation_1-logloss:0.53248\n",
      "[148]\tvalidation_0-logloss:0.53224\tvalidation_1-logloss:0.53249\n",
      "[149]\tvalidation_0-logloss:0.53232\tvalidation_1-logloss:0.53247\n",
      "[150]\tvalidation_0-logloss:0.53231\tvalidation_1-logloss:0.53249\n",
      "[151]\tvalidation_0-logloss:0.53231\tvalidation_1-logloss:0.53249\n",
      "[152]\tvalidation_0-logloss:0.53229\tvalidation_1-logloss:0.53249\n",
      "[153]\tvalidation_0-logloss:0.53234\tvalidation_1-logloss:0.53253\n",
      "[154]\tvalidation_0-logloss:0.53226\tvalidation_1-logloss:0.53255\n",
      "[155]\tvalidation_0-logloss:0.53234\tvalidation_1-logloss:0.53257\n",
      "[156]\tvalidation_0-logloss:0.53239\tvalidation_1-logloss:0.53259\n",
      "[157]\tvalidation_0-logloss:0.53225\tvalidation_1-logloss:0.53262\n",
      "[158]\tvalidation_0-logloss:0.53237\tvalidation_1-logloss:0.53268\n",
      "[159]\tvalidation_0-logloss:0.53241\tvalidation_1-logloss:0.53269\n",
      "[160]\tvalidation_0-logloss:0.53246\tvalidation_1-logloss:0.53275\n",
      "[161]\tvalidation_0-logloss:0.53255\tvalidation_1-logloss:0.53280\n",
      "[162]\tvalidation_0-logloss:0.53263\tvalidation_1-logloss:0.53285\n",
      "[163]\tvalidation_0-logloss:0.53269\tvalidation_1-logloss:0.53288\n",
      "[164]\tvalidation_0-logloss:0.53279\tvalidation_1-logloss:0.53296\n",
      "[165]\tvalidation_0-logloss:0.53274\tvalidation_1-logloss:0.53299\n",
      "[166]\tvalidation_0-logloss:0.53280\tvalidation_1-logloss:0.53304\n",
      "[167]\tvalidation_0-logloss:0.53289\tvalidation_1-logloss:0.53311\n",
      "[168]\tvalidation_0-logloss:0.53283\tvalidation_1-logloss:0.53321\n",
      "[169]\tvalidation_0-logloss:0.53282\tvalidation_1-logloss:0.53328\n",
      "[170]\tvalidation_0-logloss:0.53288\tvalidation_1-logloss:0.53331\n",
      "[171]\tvalidation_0-logloss:0.53299\tvalidation_1-logloss:0.53340\n",
      "[172]\tvalidation_0-logloss:0.53313\tvalidation_1-logloss:0.53349\n",
      "[173]\tvalidation_0-logloss:0.53315\tvalidation_1-logloss:0.53356\n",
      "[174]\tvalidation_0-logloss:0.53324\tvalidation_1-logloss:0.53365\n",
      "[175]\tvalidation_0-logloss:0.53336\tvalidation_1-logloss:0.53372\n",
      "[176]\tvalidation_0-logloss:0.53348\tvalidation_1-logloss:0.53379\n",
      "[177]\tvalidation_0-logloss:0.53358\tvalidation_1-logloss:0.53389\n",
      "[178]\tvalidation_0-logloss:0.53368\tvalidation_1-logloss:0.53397\n",
      "[179]\tvalidation_0-logloss:0.53381\tvalidation_1-logloss:0.53408\n",
      "[180]\tvalidation_0-logloss:0.53398\tvalidation_1-logloss:0.53417\n",
      "[181]\tvalidation_0-logloss:0.53405\tvalidation_1-logloss:0.53426\n",
      "[182]\tvalidation_0-logloss:0.53410\tvalidation_1-logloss:0.53439\n",
      "[183]\tvalidation_0-logloss:0.53415\tvalidation_1-logloss:0.53447\n",
      "[184]\tvalidation_0-logloss:0.53425\tvalidation_1-logloss:0.53456\n",
      "[185]\tvalidation_0-logloss:0.53426\tvalidation_1-logloss:0.53469\n",
      "[186]\tvalidation_0-logloss:0.53433\tvalidation_1-logloss:0.53479\n",
      "[187]\tvalidation_0-logloss:0.53443\tvalidation_1-logloss:0.53489\n",
      "[188]\tvalidation_0-logloss:0.53457\tvalidation_1-logloss:0.53499\n",
      "[189]\tvalidation_0-logloss:0.53472\tvalidation_1-logloss:0.53511\n",
      "[190]\tvalidation_0-logloss:0.53479\tvalidation_1-logloss:0.53522\n",
      "[191]\tvalidation_0-logloss:0.53491\tvalidation_1-logloss:0.53534\n",
      "[192]\tvalidation_0-logloss:0.53503\tvalidation_1-logloss:0.53542\n",
      "[193]\tvalidation_0-logloss:0.53517\tvalidation_1-logloss:0.53555\n",
      "[194]\tvalidation_0-logloss:0.53533\tvalidation_1-logloss:0.53567\n",
      "[195]\tvalidation_0-logloss:0.53541\tvalidation_1-logloss:0.53580\n",
      "[196]\tvalidation_0-logloss:0.53554\tvalidation_1-logloss:0.53592\n",
      "[197]\tvalidation_0-logloss:0.53571\tvalidation_1-logloss:0.53605\n",
      "[198]\tvalidation_0-logloss:0.53582\tvalidation_1-logloss:0.53617\n",
      "[199]\tvalidation_0-logloss:0.53595\tvalidation_1-logloss:0.53629\n",
      "정확도: 0.7255254524650364\n",
      "분류 보고서:\n",
      "               precision    recall  f1-score   support\n",
      "\n",
      "           0       0.98      0.65      0.78    399904\n",
      "           1       0.46      0.95      0.62    126214\n",
      "\n",
      "    accuracy                           0.73    526118\n",
      "   macro avg       0.72      0.80      0.70    526118\n",
      "weighted avg       0.85      0.73      0.75    526118\n",
      "\n"
     ]
    }
   ],
   "source": [
    "# 학습 과정 모니터링을 위한 설정\n",
    "eval_set = [(X_train, y_train), (X_test, y_test)]\n",
    "\n",
    "# 모델 학습\n",
    "xgb_model.fit(\n",
    "    X_train,\n",
    "    y_train,\n",
    "    eval_metric=\"logloss\",  # 학습 과정에서 모니터링할 평가 지표\n",
    "    eval_set=eval_set,      # 평가를 위한 데이터셋\n",
    "    verbose=True            # 학습 과정 출력 (True면 매 단계마다 출력)\n",
    ")\n",
    "\n",
    "# 예측\n",
    "y_pred = xgb_model.predict(X_test)\n",
    "\n",
    "# 성능 평가\n",
    "print(\"정확도:\", accuracy_score(y_test, y_pred))\n",
    "print(\"분류 보고서:\\n\", classification_report(y_test, y_pred))"
   ]
  },
  {
   "cell_type": "code",
   "execution_count": 7,
   "id": "50b478d2",
   "metadata": {},
   "outputs": [
    {
     "name": "stdout",
     "output_type": "stream",
     "text": [
      "모델이 obesity_model.joblib에 저장되었습니다.\n"
     ]
    }
   ],
   "source": [
    "model_save_path = \"obesity_model.joblib\"\n",
    "joblib.dump(xgb_model, model_save_path)\n",
    "print(f\"모델이 {model_save_path}에 저장되었습니다.\")"
   ]
  },
  {
   "cell_type": "markdown",
   "id": "97d92a04",
   "metadata": {},
   "source": [
    "추론 시간 + 테스트"
   ]
  },
  {
   "cell_type": "code",
   "execution_count": 17,
   "id": "b42252f0",
   "metadata": {},
   "outputs": [
    {
     "name": "stdout",
     "output_type": "stream",
     "text": [
      "[[-0.93721484 -1.038723   -0.23025953  1.34449692  0.44569232  0.2935656 ]]\n"
     ]
    }
   ],
   "source": [
    "print(X_test[:1])"
   ]
  },
  {
   "cell_type": "code",
   "execution_count": 16,
   "id": "6f756771",
   "metadata": {},
   "outputs": [
    {
     "name": "stdout",
     "output_type": "stream",
     "text": [
      "데이터 하나에 대한 추론 시간: 0.001468초\n",
      "클래스 0에 대한 확률: 0.08330619\n",
      "클래스 1에 대한 확률: 0.9166938\n"
     ]
    }
   ],
   "source": [
    "import time\n",
    "\n",
    "# 첫 번째 테스트 데이터에 대해 추론 시간 측정\n",
    "start_time = time.time()  # 시작 시간 기록\n",
    "\n",
    "# 첫 번째 샘플에 대해 확률값 예측\n",
    "single_prediction_prob = xgb_model.predict_proba(X_test[:1])\n",
    "\n",
    "end_time = time.time()  # 끝 시간 기록\n",
    "\n",
    "# 추론 시간 계산\n",
    "inference_time = end_time - start_time\n",
    "print(f\"데이터 하나에 대한 추론 시간: {inference_time:.6f}초\")\n",
    "\n",
    "# 예측 확률 출력\n",
    "print(\"클래스 0에 대한 확률:\", single_prediction_prob[0][0])\n",
    "print(\"클래스 1에 대한 확률:\", single_prediction_prob[0][1])"
   ]
  },
  {
   "cell_type": "code",
   "execution_count": 14,
   "id": "4b65b2b5",
   "metadata": {},
   "outputs": [
    {
     "name": "stdout",
     "output_type": "stream",
     "text": [
      "[1]\n"
     ]
    }
   ],
   "source": [
    "print(single_prediction)"
   ]
  },
  {
   "cell_type": "code",
   "execution_count": null,
   "id": "778909de",
   "metadata": {},
   "outputs": [
    {
     "name": "stdout",
     "output_type": "stream",
     "text": [
      "데이터 하나에 대한 추론 시간: 0.04007983207702637초\n",
      "입력된 데이터: {'성별': 1, '연령대코드': 2, '신장': 200.0, '체중': 200.0, '수축기 혈압': 120, '이완기 혈압': 80}\n",
      "예측 결과: [1]\n"
     ]
    }
   ],
   "source": [
    "import time\n",
    "# 사용자로부터 입력된 데이터 (리스트 형태 제거)\n",
    "input_data = {\n",
    "    '성별': 1,  # 예: 1은 남성, 0은 여성\n",
    "    '연령대코드': 2,  # 예: 2는 30대, 1은 20대 등\n",
    "    '신장': 200.0,  # 예: 170 cm\n",
    "    '체중': 200.0,  # 예: 65 kg\n",
    "    '수축기 혈압': 120,  # 예: 120 mmHg\n",
    "    '이완기 혈압': 80  # 예: 80 mmHg\n",
    "}\n",
    "\n",
    "# 입력 데이터를 DataFrame으로 변환 (리스트가 아닌 단일 값 처리)\n",
    "input_df = pd.DataFrame([input_data])\n",
    "\n",
    "# 범주형 변수 처리 (pd.get_dummies 사용)\n",
    "input_df_processed = pd.get_dummies(input_df, drop_first=True)\n",
    "\n",
    "# 스케일링: 모델에 사용된 X_train과 동일한 방식으로 스케일링\n",
    "scaler = StandardScaler()\n",
    "input_scaled = scaler.fit_transform(input_df_processed)\n",
    "\n",
    "# 첫 번째 테스트 데이터에 대해 추론 시간 측정\n",
    "start_time = time.time()  # 시작 시간 기록\n",
    "\n",
    "# XGBoost 모델 예측\n",
    "prediction = xgb_model.predict(input_scaled)\n",
    "\n",
    "end_time = time.time()  # 끝 시간 기록\n",
    "\n",
    "# 추론 시간 계산\n",
    "inference_time = end_time - start_time\n",
    "print(f\"데이터 하나에 대한 추론 시간: {inference_time}초\")\n",
    "\n",
    "# 예측 결과 출력\n",
    "print(\"입력된 데이터:\", input_data)\n",
    "print(\"예측 결과:\", prediction)"
   ]
  },
  {
   "cell_type": "code",
   "execution_count": null,
   "id": "95ef7ceb",
   "metadata": {},
   "outputs": [],
   "source": []
  }
 ],
 "metadata": {
  "kernelspec": {
   "display_name": "uni",
   "language": "python",
   "name": "python3"
  },
  "language_info": {
   "codemirror_mode": {
    "name": "ipython",
    "version": 3
   },
   "file_extension": ".py",
   "mimetype": "text/x-python",
   "name": "python",
   "nbconvert_exporter": "python",
   "pygments_lexer": "ipython3",
   "version": "3.12.0"
  }
 },
 "nbformat": 4,
 "nbformat_minor": 5
}
